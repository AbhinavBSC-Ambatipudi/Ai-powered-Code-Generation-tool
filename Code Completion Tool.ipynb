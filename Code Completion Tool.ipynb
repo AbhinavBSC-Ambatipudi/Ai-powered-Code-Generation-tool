{
 "cells": [
  {
   "cell_type": "markdown",
   "metadata": {},
   "source": [
    "# INSTALLATION"
   ]
  },
  {
   "cell_type": "code",
   "execution_count": null,
   "metadata": {
    "id": "rSXlm2kBTDis"
   },
   "outputs": [],
   "source": [
    "%pip install langchain openai\n",
    "%pip install langchain\n",
    "%pip show langchain langchain-core\n",
    "%pip install --upgrade langchain langchain-core\n",
    "%pip install langchain_experimental\n",
    "%pip install openai==0.28\n",
    "pip install -U openai\n",
    "pip install -U langchain-openai"
   ]
  },
  {
   "cell_type": "markdown",
   "metadata": {},
   "source": [
    "### IMPORTS"
   ]
  },
  {
   "cell_type": "code",
   "execution_count": null,
   "metadata": {
    "id": "g7DTnWmXTJzF"
   },
   "outputs": [],
   "source": [
    "import os\n",
    "import langchain\n",
    "import openai\n",
    "from langchain_experimental.agents.agent_toolkits import create_python_agent\n",
    "\n",
    "from langchain_experimental.tools.python.tool import PythonREPLTool\n",
    "from langchain.agents import initialize_agent, load_tools"
   ]
  },
  {
   "cell_type": "markdown",
   "metadata": {
    "id": "ZGotBqf3Cc-_"
   },
   "source": [
    "### Provide your OpenAI API keys"
   ]
  },
  {
   "cell_type": "code",
   "execution_count": null,
   "metadata": {
    "id": "GhAags2sTaLU"
   },
   "outputs": [],
   "source": [
    "os.environ[\"OPENAI_API_KEY\"] = "
   ]
  },
  {
   "cell_type": "markdown",
   "metadata": {
    "id": "FyZzw50eCgK0"
   },
   "source": [
    "### Initialize LLM Model"
   ]
  },
  {
   "cell_type": "code",
   "execution_count": null,
   "metadata": {
    "colab": {
     "base_uri": "https://localhost:8080/"
    },
    "id": "di_9oUyTTj-j",
    "outputId": "c50eabc3-0598-4bf7-a9c1-636978e8f1e4"
   },
   "outputs": [],
   "source": [
    "from langchain_openai import ChatOpenAI\n",
    "\n",
    "llm = ChatOpenAI(model=\"gpt-3.5-turbo\")"
   ]
  },
  {
   "cell_type": "markdown",
   "metadata": {
    "id": "1I4emKm5WxRr"
   },
   "source": [
    "### Create A Python Agent"
   ]
  },
  {
   "cell_type": "code",
   "execution_count": null,
   "metadata": {
    "id": "aCsKoo68Tlfy"
   },
   "outputs": [],
   "source": [
    "agent = create_python_agent(\n",
    "    llm,\n",
    "    tool=PythonREPLTool(),\n",
    "    verbose=True\n",
    ")"
   ]
  },
  {
   "cell_type": "markdown",
   "metadata": {
    "id": "65yARWGbVCzC"
   },
   "source": [
    "### Do Programming Tasks\n"
   ]
  },
  {
   "cell_type": "code",
   "execution_count": null,
   "metadata": {
    "id": "q8drax7OT1Wi"
   },
   "outputs": [],
   "source": [
    "#use langchain debug mode to see detailed list of operations done\n",
    "#langchain.debug=False\n",
    "#agent.run(\"\"\"Given the input list {[\"Nachiketa\",17,\"Ayush\",20,\"Rahul\",30]}, convert it into a dictionary where the keys are the names occuring at even indices and the values are the roll number occuring at odd indices\"\"\")"
   ]
  },
  {
   "cell_type": "markdown",
   "metadata": {
    "id": "z8iFMH6GVFI6"
   },
   "source": [
    "### Get Code Written For You"
   ]
  },
  {
   "cell_type": "code",
   "execution_count": null,
   "metadata": {},
   "outputs": [],
   "source": [
    "response = agent.invoke(\"Write a program to print the Fibonacci series using recursive method\")\n",
    "print(response)"
   ]
  },
  {
   "cell_type": "code",
   "execution_count": null,
   "metadata": {},
   "outputs": [],
   "source": []
  }
 ],
 "metadata": {
  "colab": {
   "provenance": []
  },
  "kernelspec": {
   "display_name": "Python 3 (ipykernel)",
   "language": "python",
   "name": "python3"
  },
  "language_info": {
   "codemirror_mode": {
    "name": "ipython",
    "version": 3
   },
   "file_extension": ".py",
   "mimetype": "text/x-python",
   "name": "python",
   "nbconvert_exporter": "python",
   "pygments_lexer": "ipython3",
   "version": "3.9.13"
  }
 },
 "nbformat": 4,
 "nbformat_minor": 1
}
